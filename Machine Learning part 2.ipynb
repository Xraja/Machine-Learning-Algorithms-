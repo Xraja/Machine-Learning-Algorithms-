{
 "cells": [
  {
   "cell_type": "code",
   "execution_count": 19,
   "id": "475ba00b",
   "metadata": {},
   "outputs": [
    {
     "name": "stdout",
     "output_type": "stream",
     "text": [
      "(400, 26)\n"
     ]
    },
    {
     "data": {
      "text/html": [
       "<div>\n",
       "<style scoped>\n",
       "    .dataframe tbody tr th:only-of-type {\n",
       "        vertical-align: middle;\n",
       "    }\n",
       "\n",
       "    .dataframe tbody tr th {\n",
       "        vertical-align: top;\n",
       "    }\n",
       "\n",
       "    .dataframe thead th {\n",
       "        text-align: right;\n",
       "    }\n",
       "</style>\n",
       "<table border=\"1\" class=\"dataframe\">\n",
       "  <thead>\n",
       "    <tr style=\"text-align: right;\">\n",
       "      <th></th>\n",
       "      <th>id</th>\n",
       "      <th>age</th>\n",
       "      <th>bp</th>\n",
       "      <th>sg</th>\n",
       "      <th>al</th>\n",
       "      <th>su</th>\n",
       "      <th>rbc</th>\n",
       "      <th>pc</th>\n",
       "      <th>pcc</th>\n",
       "      <th>ba</th>\n",
       "      <th>...</th>\n",
       "      <th>pcv</th>\n",
       "      <th>wc</th>\n",
       "      <th>rc</th>\n",
       "      <th>htn</th>\n",
       "      <th>dm</th>\n",
       "      <th>cad</th>\n",
       "      <th>appet</th>\n",
       "      <th>pe</th>\n",
       "      <th>ane</th>\n",
       "      <th>classification</th>\n",
       "    </tr>\n",
       "  </thead>\n",
       "  <tbody>\n",
       "    <tr>\n",
       "      <th>0</th>\n",
       "      <td>0</td>\n",
       "      <td>48.0</td>\n",
       "      <td>80.0</td>\n",
       "      <td>1.020</td>\n",
       "      <td>1.0</td>\n",
       "      <td>0.0</td>\n",
       "      <td>NaN</td>\n",
       "      <td>normal</td>\n",
       "      <td>notpresent</td>\n",
       "      <td>notpresent</td>\n",
       "      <td>...</td>\n",
       "      <td>44.0</td>\n",
       "      <td>7800.0</td>\n",
       "      <td>5.2</td>\n",
       "      <td>yes</td>\n",
       "      <td>yes</td>\n",
       "      <td>no</td>\n",
       "      <td>good</td>\n",
       "      <td>no</td>\n",
       "      <td>no</td>\n",
       "      <td>ckd</td>\n",
       "    </tr>\n",
       "    <tr>\n",
       "      <th>1</th>\n",
       "      <td>1</td>\n",
       "      <td>7.0</td>\n",
       "      <td>50.0</td>\n",
       "      <td>1.020</td>\n",
       "      <td>4.0</td>\n",
       "      <td>0.0</td>\n",
       "      <td>NaN</td>\n",
       "      <td>normal</td>\n",
       "      <td>notpresent</td>\n",
       "      <td>notpresent</td>\n",
       "      <td>...</td>\n",
       "      <td>38.0</td>\n",
       "      <td>6000.0</td>\n",
       "      <td>NaN</td>\n",
       "      <td>no</td>\n",
       "      <td>no</td>\n",
       "      <td>no</td>\n",
       "      <td>good</td>\n",
       "      <td>no</td>\n",
       "      <td>no</td>\n",
       "      <td>ckd</td>\n",
       "    </tr>\n",
       "    <tr>\n",
       "      <th>2</th>\n",
       "      <td>2</td>\n",
       "      <td>62.0</td>\n",
       "      <td>80.0</td>\n",
       "      <td>1.010</td>\n",
       "      <td>2.0</td>\n",
       "      <td>3.0</td>\n",
       "      <td>normal</td>\n",
       "      <td>normal</td>\n",
       "      <td>notpresent</td>\n",
       "      <td>notpresent</td>\n",
       "      <td>...</td>\n",
       "      <td>31.0</td>\n",
       "      <td>7500.0</td>\n",
       "      <td>NaN</td>\n",
       "      <td>no</td>\n",
       "      <td>yes</td>\n",
       "      <td>no</td>\n",
       "      <td>poor</td>\n",
       "      <td>no</td>\n",
       "      <td>yes</td>\n",
       "      <td>ckd</td>\n",
       "    </tr>\n",
       "    <tr>\n",
       "      <th>3</th>\n",
       "      <td>3</td>\n",
       "      <td>48.0</td>\n",
       "      <td>70.0</td>\n",
       "      <td>1.005</td>\n",
       "      <td>4.0</td>\n",
       "      <td>0.0</td>\n",
       "      <td>normal</td>\n",
       "      <td>abnormal</td>\n",
       "      <td>present</td>\n",
       "      <td>notpresent</td>\n",
       "      <td>...</td>\n",
       "      <td>32.0</td>\n",
       "      <td>6700.0</td>\n",
       "      <td>3.9</td>\n",
       "      <td>yes</td>\n",
       "      <td>no</td>\n",
       "      <td>no</td>\n",
       "      <td>poor</td>\n",
       "      <td>yes</td>\n",
       "      <td>yes</td>\n",
       "      <td>ckd</td>\n",
       "    </tr>\n",
       "    <tr>\n",
       "      <th>4</th>\n",
       "      <td>4</td>\n",
       "      <td>51.0</td>\n",
       "      <td>80.0</td>\n",
       "      <td>1.010</td>\n",
       "      <td>2.0</td>\n",
       "      <td>0.0</td>\n",
       "      <td>normal</td>\n",
       "      <td>normal</td>\n",
       "      <td>notpresent</td>\n",
       "      <td>notpresent</td>\n",
       "      <td>...</td>\n",
       "      <td>35.0</td>\n",
       "      <td>7300.0</td>\n",
       "      <td>4.6</td>\n",
       "      <td>no</td>\n",
       "      <td>no</td>\n",
       "      <td>no</td>\n",
       "      <td>good</td>\n",
       "      <td>no</td>\n",
       "      <td>no</td>\n",
       "      <td>ckd</td>\n",
       "    </tr>\n",
       "  </tbody>\n",
       "</table>\n",
       "<p>5 rows × 26 columns</p>\n",
       "</div>"
      ],
      "text/plain": [
       "   id   age    bp     sg   al   su     rbc        pc         pcc          ba  \\\n",
       "0   0  48.0  80.0  1.020  1.0  0.0     NaN    normal  notpresent  notpresent   \n",
       "1   1   7.0  50.0  1.020  4.0  0.0     NaN    normal  notpresent  notpresent   \n",
       "2   2  62.0  80.0  1.010  2.0  3.0  normal    normal  notpresent  notpresent   \n",
       "3   3  48.0  70.0  1.005  4.0  0.0  normal  abnormal     present  notpresent   \n",
       "4   4  51.0  80.0  1.010  2.0  0.0  normal    normal  notpresent  notpresent   \n",
       "\n",
       "   ...   pcv      wc   rc  htn   dm  cad  appet   pe  ane classification  \n",
       "0  ...  44.0  7800.0  5.2  yes  yes   no   good   no   no            ckd  \n",
       "1  ...  38.0  6000.0  NaN   no   no   no   good   no   no            ckd  \n",
       "2  ...  31.0  7500.0  NaN   no  yes   no   poor   no  yes            ckd  \n",
       "3  ...  32.0  6700.0  3.9  yes   no   no   poor  yes  yes            ckd  \n",
       "4  ...  35.0  7300.0  4.6   no   no   no   good   no   no            ckd  \n",
       "\n",
       "[5 rows x 26 columns]"
      ]
     },
     "execution_count": 19,
     "metadata": {},
     "output_type": "execute_result"
    }
   ],
   "source": [
    "import pandas as pd\n",
    "\n",
    "df=pd.read_csv('C:/Users/H.A/Downloads/kidney_disease.csv')\n",
    "\n",
    "print(df.shape)\n",
    "df.head()"
   ]
  },
  {
   "cell_type": "code",
   "execution_count": 20,
   "id": "508142a1",
   "metadata": {},
   "outputs": [
    {
     "data": {
      "text/html": [
       "<div>\n",
       "<style scoped>\n",
       "    .dataframe tbody tr th:only-of-type {\n",
       "        vertical-align: middle;\n",
       "    }\n",
       "\n",
       "    .dataframe tbody tr th {\n",
       "        vertical-align: top;\n",
       "    }\n",
       "\n",
       "    .dataframe thead th {\n",
       "        text-align: right;\n",
       "    }\n",
       "</style>\n",
       "<table border=\"1\" class=\"dataframe\">\n",
       "  <thead>\n",
       "    <tr style=\"text-align: right;\">\n",
       "      <th></th>\n",
       "      <th>id</th>\n",
       "      <th>age</th>\n",
       "      <th>blood_pressure</th>\n",
       "      <th>specific gravity</th>\n",
       "      <th>albumin</th>\n",
       "      <th>sugar</th>\n",
       "      <th>red blood cells</th>\n",
       "      <th>pus cell</th>\n",
       "      <th>pus cell clumps</th>\n",
       "      <th>bacteria</th>\n",
       "      <th>...</th>\n",
       "      <th>packed cell volume</th>\n",
       "      <th>white blood cell count</th>\n",
       "      <th>red blood cell count</th>\n",
       "      <th>hypertension</th>\n",
       "      <th>diabetes mellitus</th>\n",
       "      <th>coronary artery disease</th>\n",
       "      <th>appetite</th>\n",
       "      <th>pedal edema</th>\n",
       "      <th>anemia</th>\n",
       "      <th>class</th>\n",
       "    </tr>\n",
       "  </thead>\n",
       "  <tbody>\n",
       "    <tr>\n",
       "      <th>0</th>\n",
       "      <td>0</td>\n",
       "      <td>48.0</td>\n",
       "      <td>80.0</td>\n",
       "      <td>1.020</td>\n",
       "      <td>1.0</td>\n",
       "      <td>0.0</td>\n",
       "      <td>NaN</td>\n",
       "      <td>normal</td>\n",
       "      <td>notpresent</td>\n",
       "      <td>notpresent</td>\n",
       "      <td>...</td>\n",
       "      <td>44.0</td>\n",
       "      <td>7800.0</td>\n",
       "      <td>5.2</td>\n",
       "      <td>yes</td>\n",
       "      <td>yes</td>\n",
       "      <td>no</td>\n",
       "      <td>good</td>\n",
       "      <td>no</td>\n",
       "      <td>no</td>\n",
       "      <td>ckd</td>\n",
       "    </tr>\n",
       "    <tr>\n",
       "      <th>1</th>\n",
       "      <td>1</td>\n",
       "      <td>7.0</td>\n",
       "      <td>50.0</td>\n",
       "      <td>1.020</td>\n",
       "      <td>4.0</td>\n",
       "      <td>0.0</td>\n",
       "      <td>NaN</td>\n",
       "      <td>normal</td>\n",
       "      <td>notpresent</td>\n",
       "      <td>notpresent</td>\n",
       "      <td>...</td>\n",
       "      <td>38.0</td>\n",
       "      <td>6000.0</td>\n",
       "      <td>NaN</td>\n",
       "      <td>no</td>\n",
       "      <td>no</td>\n",
       "      <td>no</td>\n",
       "      <td>good</td>\n",
       "      <td>no</td>\n",
       "      <td>no</td>\n",
       "      <td>ckd</td>\n",
       "    </tr>\n",
       "    <tr>\n",
       "      <th>2</th>\n",
       "      <td>2</td>\n",
       "      <td>62.0</td>\n",
       "      <td>80.0</td>\n",
       "      <td>1.010</td>\n",
       "      <td>2.0</td>\n",
       "      <td>3.0</td>\n",
       "      <td>normal</td>\n",
       "      <td>normal</td>\n",
       "      <td>notpresent</td>\n",
       "      <td>notpresent</td>\n",
       "      <td>...</td>\n",
       "      <td>31.0</td>\n",
       "      <td>7500.0</td>\n",
       "      <td>NaN</td>\n",
       "      <td>no</td>\n",
       "      <td>yes</td>\n",
       "      <td>no</td>\n",
       "      <td>poor</td>\n",
       "      <td>no</td>\n",
       "      <td>yes</td>\n",
       "      <td>ckd</td>\n",
       "    </tr>\n",
       "    <tr>\n",
       "      <th>3</th>\n",
       "      <td>3</td>\n",
       "      <td>48.0</td>\n",
       "      <td>70.0</td>\n",
       "      <td>1.005</td>\n",
       "      <td>4.0</td>\n",
       "      <td>0.0</td>\n",
       "      <td>normal</td>\n",
       "      <td>abnormal</td>\n",
       "      <td>present</td>\n",
       "      <td>notpresent</td>\n",
       "      <td>...</td>\n",
       "      <td>32.0</td>\n",
       "      <td>6700.0</td>\n",
       "      <td>3.9</td>\n",
       "      <td>yes</td>\n",
       "      <td>no</td>\n",
       "      <td>no</td>\n",
       "      <td>poor</td>\n",
       "      <td>yes</td>\n",
       "      <td>yes</td>\n",
       "      <td>ckd</td>\n",
       "    </tr>\n",
       "    <tr>\n",
       "      <th>4</th>\n",
       "      <td>4</td>\n",
       "      <td>51.0</td>\n",
       "      <td>80.0</td>\n",
       "      <td>1.010</td>\n",
       "      <td>2.0</td>\n",
       "      <td>0.0</td>\n",
       "      <td>normal</td>\n",
       "      <td>normal</td>\n",
       "      <td>notpresent</td>\n",
       "      <td>notpresent</td>\n",
       "      <td>...</td>\n",
       "      <td>35.0</td>\n",
       "      <td>7300.0</td>\n",
       "      <td>4.6</td>\n",
       "      <td>no</td>\n",
       "      <td>no</td>\n",
       "      <td>no</td>\n",
       "      <td>good</td>\n",
       "      <td>no</td>\n",
       "      <td>no</td>\n",
       "      <td>ckd</td>\n",
       "    </tr>\n",
       "  </tbody>\n",
       "</table>\n",
       "<p>5 rows × 26 columns</p>\n",
       "</div>"
      ],
      "text/plain": [
       "   id   age  blood_pressure  specific gravity  albumin  sugar red blood cells  \\\n",
       "0   0  48.0            80.0             1.020      1.0    0.0             NaN   \n",
       "1   1   7.0            50.0             1.020      4.0    0.0             NaN   \n",
       "2   2  62.0            80.0             1.010      2.0    3.0          normal   \n",
       "3   3  48.0            70.0             1.005      4.0    0.0          normal   \n",
       "4   4  51.0            80.0             1.010      2.0    0.0          normal   \n",
       "\n",
       "   pus cell pus cell clumps    bacteria  ...  packed cell volume  \\\n",
       "0    normal      notpresent  notpresent  ...                44.0   \n",
       "1    normal      notpresent  notpresent  ...                38.0   \n",
       "2    normal      notpresent  notpresent  ...                31.0   \n",
       "3  abnormal         present  notpresent  ...                32.0   \n",
       "4    normal      notpresent  notpresent  ...                35.0   \n",
       "\n",
       "   white blood cell count  red blood cell count  hypertension  \\\n",
       "0                  7800.0                   5.2           yes   \n",
       "1                  6000.0                   NaN            no   \n",
       "2                  7500.0                   NaN            no   \n",
       "3                  6700.0                   3.9           yes   \n",
       "4                  7300.0                   4.6            no   \n",
       "\n",
       "   diabetes mellitus  coronary artery disease  appetite  pedal edema  anemia  \\\n",
       "0                yes                       no      good           no      no   \n",
       "1                 no                       no      good           no      no   \n",
       "2                yes                       no      poor           no     yes   \n",
       "3                 no                       no      poor          yes     yes   \n",
       "4                 no                       no      good           no      no   \n",
       "\n",
       "  class  \n",
       "0   ckd  \n",
       "1   ckd  \n",
       "2   ckd  \n",
       "3   ckd  \n",
       "4   ckd  \n",
       "\n",
       "[5 rows x 26 columns]"
      ]
     },
     "execution_count": 20,
     "metadata": {},
     "output_type": "execute_result"
    }
   ],
   "source": [
    "df.rename(columns={'bp': 'blood_pressure', 'sg': 'specific gravity','al':'albumin','su':'sugar','rbc':'red blood cells','pc':'pus cell','pcc':'pus cell clumps','ba':'bacteria','bgr':'blood glucose random','bu':'blood urea','sc':'serum creatinine','sod':'sodium','pot':'potassium','hemo':'hemoglobin','pcv':'packed cell volume','wc':'white blood cell count','rc':'red blood cell count','htn':'hypertension','dm':'diabetes mellitus','cad':'coronary artery disease','appet':'appetite','pe':'pedal edema','ane':'anemia','classification':'class'},inplace=True)\n",
    "df.head()"
   ]
  },
  {
   "cell_type": "code",
   "execution_count": 21,
   "id": "43104af4",
   "metadata": {},
   "outputs": [
    {
     "data": {
      "text/plain": [
       "id                           0\n",
       "age                          9\n",
       "blood_pressure              12\n",
       "specific gravity            47\n",
       "albumin                     46\n",
       "sugar                       49\n",
       "red blood cells            152\n",
       "pus cell                    65\n",
       "pus cell clumps              4\n",
       "bacteria                     4\n",
       "blood glucose random        44\n",
       "blood urea                  19\n",
       "serum creatinine            17\n",
       "sodium                      87\n",
       "potassium                   88\n",
       "hemoglobin                  52\n",
       "packed cell volume          70\n",
       "white blood cell count     105\n",
       "red blood cell count       130\n",
       "hypertension                 2\n",
       "diabetes mellitus            2\n",
       "coronary artery disease      2\n",
       "appetite                     1\n",
       "pedal edema                  1\n",
       "anemia                       1\n",
       "class                        0\n",
       "dtype: int64"
      ]
     },
     "execution_count": 21,
     "metadata": {},
     "output_type": "execute_result"
    }
   ],
   "source": [
    "df.isnull().sum()\n"
   ]
  },
  {
   "cell_type": "code",
   "execution_count": 22,
   "id": "7fbd73ce",
   "metadata": {},
   "outputs": [],
   "source": [
    "df['age'].fillna(df['age'].mean(),inplace=True)\n",
    "df['blood_pressure'].fillna(df['blood_pressure'].max(),inplace=True)\n",
    "df['specific gravity'].fillna(df['specific gravity'].mean(),inplace=True)\n",
    "df['albumin'].fillna(df['albumin'].mean(),inplace=True)\n",
    "df['sugar'].fillna(df['sugar'].mean(),inplace=True)\n",
    "df['blood glucose random'].fillna(df['blood glucose random'].mean(),inplace=True)\n",
    "df['blood urea'].fillna(df['blood urea'].mean(),inplace=True)\n",
    "df['serum creatinine'].fillna(df['serum creatinine'].mean(),inplace=True)\n",
    "df['sodium'].fillna(df['sodium'].mean(),inplace=True)\n",
    "df['potassium'].fillna(df['potassium'].mean(),inplace=True)\n",
    "df['hemoglobin'].fillna(df['hemoglobin'].mean(),inplace=True)\n",
    "df['packed cell volume'].fillna(df['packed cell volume'].mean(),inplace=True)\n",
    "df['red blood cell count'].fillna(df['red blood cell count'].mean(),inplace=True)\n",
    "df['white blood cell count'].fillna(df['white blood cell count'].mean(),inplace=True)\n",
    "\n",
    "df['red blood cells'].fillna('normal',inplace=True)\n",
    "df['pus cell'].fillna('normal',inplace=True)\n",
    "df['pus cell clumps'].fillna('notpresent',inplace=True)\n",
    "df['bacteria'].fillna('notpresent',inplace=True)\n",
    "\n",
    "df['hypertension'].fillna('no',inplace=True)\n",
    "df['diabetes mellitus'].fillna('no',inplace=True)\n",
    "df['coronary artery disease'].fillna('no',inplace=True)\n",
    "\n",
    "df['appetite'].fillna('good',inplace=True)\n",
    "df['pedal edema'].fillna('no',inplace=True)\n",
    "df['anemia'].fillna('no',inplace=True)\n",
    "\n"
   ]
  },
  {
   "cell_type": "code",
   "execution_count": 23,
   "id": "bcc9e0e9",
   "metadata": {},
   "outputs": [],
   "source": [
    "from sklearn.preprocessing import LabelEncoder\n",
    "encoder=LabelEncoder()\n",
    "df['red blood cells']=encoder.fit_transform(df['red blood cells'])\n",
    "df['pus cell']=encoder.fit_transform(df['pus cell'])\n",
    "df['pus cell clumps']=encoder.fit_transform(df['pus cell clumps'])\n",
    "df['bacteria']=encoder.fit_transform(df['bacteria'])\n",
    "\n",
    "#df['packed cell volume']=encoder.fit_transform(df['packed cell volume'])\n",
    "#df['white blood cell count']=encoder.fit_transform(df['white blood cell count'])\n",
    "#df['red blood cell count']=encoder.fit_transform(df['red blood cell count'])\n",
    "\n",
    "df['hypertension']=encoder.fit_transform(df['hypertension'])\n",
    "df['diabetes mellitus']=encoder.fit_transform(df['diabetes mellitus'])\n",
    "df['coronary artery disease']=encoder.fit_transform(df['coronary artery disease'])\n",
    "\n",
    "df['appetite']=encoder.fit_transform(df['appetite'])\n",
    "df['pedal edema']=encoder.fit_transform(df['pedal edema'])\n",
    "df['anemia']=encoder.fit_transform(df['anemia'])\n",
    "df['class']=encoder.fit_transform(df['class'])"
   ]
  },
  {
   "cell_type": "code",
   "execution_count": 24,
   "id": "91be59f4",
   "metadata": {},
   "outputs": [
    {
     "data": {
      "text/plain": [
       "id                         0\n",
       "age                        0\n",
       "blood_pressure             0\n",
       "specific gravity           0\n",
       "albumin                    0\n",
       "sugar                      0\n",
       "red blood cells            0\n",
       "pus cell                   0\n",
       "pus cell clumps            0\n",
       "bacteria                   0\n",
       "blood glucose random       0\n",
       "blood urea                 0\n",
       "serum creatinine           0\n",
       "sodium                     0\n",
       "potassium                  0\n",
       "hemoglobin                 0\n",
       "packed cell volume         0\n",
       "white blood cell count     0\n",
       "red blood cell count       0\n",
       "hypertension               0\n",
       "diabetes mellitus          0\n",
       "coronary artery disease    0\n",
       "appetite                   0\n",
       "pedal edema                0\n",
       "anemia                     0\n",
       "class                      0\n",
       "dtype: int64"
      ]
     },
     "execution_count": 24,
     "metadata": {},
     "output_type": "execute_result"
    }
   ],
   "source": [
    "#df['white blood cell count'].value_counts()\n",
    "df.isnull().sum()"
   ]
  },
  {
   "cell_type": "code",
   "execution_count": 25,
   "id": "c14ac068",
   "metadata": {},
   "outputs": [
    {
     "name": "stdout",
     "output_type": "stream",
     "text": [
      "<class 'pandas.core.frame.DataFrame'>\n",
      "RangeIndex: 400 entries, 0 to 399\n",
      "Data columns (total 26 columns):\n",
      " #   Column                   Non-Null Count  Dtype  \n",
      "---  ------                   --------------  -----  \n",
      " 0   id                       400 non-null    int64  \n",
      " 1   age                      400 non-null    float64\n",
      " 2   blood_pressure           400 non-null    float64\n",
      " 3   specific gravity         400 non-null    float64\n",
      " 4   albumin                  400 non-null    float64\n",
      " 5   sugar                    400 non-null    float64\n",
      " 6   red blood cells          400 non-null    int32  \n",
      " 7   pus cell                 400 non-null    int32  \n",
      " 8   pus cell clumps          400 non-null    int32  \n",
      " 9   bacteria                 400 non-null    int32  \n",
      " 10  blood glucose random     400 non-null    float64\n",
      " 11  blood urea               400 non-null    float64\n",
      " 12  serum creatinine         400 non-null    float64\n",
      " 13  sodium                   400 non-null    float64\n",
      " 14  potassium                400 non-null    float64\n",
      " 15  hemoglobin               400 non-null    float64\n",
      " 16  packed cell volume       400 non-null    float64\n",
      " 17  white blood cell count   400 non-null    float64\n",
      " 18  red blood cell count     400 non-null    float64\n",
      " 19  hypertension             400 non-null    int32  \n",
      " 20  diabetes mellitus        400 non-null    int32  \n",
      " 21  coronary artery disease  400 non-null    int32  \n",
      " 22  appetite                 400 non-null    int32  \n",
      " 23  pedal edema              400 non-null    int32  \n",
      " 24  anemia                   400 non-null    int32  \n",
      " 25  class                    400 non-null    int32  \n",
      "dtypes: float64(14), int32(11), int64(1)\n",
      "memory usage: 64.2 KB\n"
     ]
    }
   ],
   "source": [
    "\n",
    "df.info()"
   ]
  },
  {
   "cell_type": "code",
   "execution_count": 26,
   "id": "722fce8f",
   "metadata": {},
   "outputs": [
    {
     "data": {
      "text/plain": [
       "(400, 24)"
      ]
     },
     "execution_count": 26,
     "metadata": {},
     "output_type": "execute_result"
    }
   ],
   "source": [
    "df = df.drop(['id'], axis=1)\n",
    "df = df.drop(['class'], axis=1)\n",
    "df.shape"
   ]
  },
  {
   "cell_type": "code",
   "execution_count": 44,
   "id": "9b120965",
   "metadata": {},
   "outputs": [],
   "source": [
    "from sklearn.cluster import AgglomerativeClustering #Importing our clustering algorithm : Agglomerative\n",
    "model=AgglomerativeClustering(n_clusters=4, affinity='euclidean', linkage='complete')\n",
    "clust_labels=model.fit_predict(df)  #Applying agglomerative algorithm with 5 clusters, using euclidean distance as a metric"
   ]
  },
  {
   "cell_type": "code",
   "execution_count": 45,
   "id": "0b8a04ae",
   "metadata": {},
   "outputs": [
    {
     "data": {
      "text/html": [
       "<div>\n",
       "<style scoped>\n",
       "    .dataframe tbody tr th:only-of-type {\n",
       "        vertical-align: middle;\n",
       "    }\n",
       "\n",
       "    .dataframe tbody tr th {\n",
       "        vertical-align: top;\n",
       "    }\n",
       "\n",
       "    .dataframe thead th {\n",
       "        text-align: right;\n",
       "    }\n",
       "</style>\n",
       "<table border=\"1\" class=\"dataframe\">\n",
       "  <thead>\n",
       "    <tr style=\"text-align: right;\">\n",
       "      <th></th>\n",
       "      <th>0</th>\n",
       "    </tr>\n",
       "  </thead>\n",
       "  <tbody>\n",
       "    <tr>\n",
       "      <th>0</th>\n",
       "      <td>0</td>\n",
       "    </tr>\n",
       "    <tr>\n",
       "      <th>1</th>\n",
       "      <td>0</td>\n",
       "    </tr>\n",
       "    <tr>\n",
       "      <th>2</th>\n",
       "      <td>0</td>\n",
       "    </tr>\n",
       "    <tr>\n",
       "      <th>3</th>\n",
       "      <td>0</td>\n",
       "    </tr>\n",
       "    <tr>\n",
       "      <th>4</th>\n",
       "      <td>0</td>\n",
       "    </tr>\n",
       "    <tr>\n",
       "      <th>...</th>\n",
       "      <td>...</td>\n",
       "    </tr>\n",
       "    <tr>\n",
       "      <th>395</th>\n",
       "      <td>0</td>\n",
       "    </tr>\n",
       "    <tr>\n",
       "      <th>396</th>\n",
       "      <td>0</td>\n",
       "    </tr>\n",
       "    <tr>\n",
       "      <th>397</th>\n",
       "      <td>0</td>\n",
       "    </tr>\n",
       "    <tr>\n",
       "      <th>398</th>\n",
       "      <td>0</td>\n",
       "    </tr>\n",
       "    <tr>\n",
       "      <th>399</th>\n",
       "      <td>0</td>\n",
       "    </tr>\n",
       "  </tbody>\n",
       "</table>\n",
       "<p>400 rows × 1 columns</p>\n",
       "</div>"
      ],
      "text/plain": [
       "     0\n",
       "0    0\n",
       "1    0\n",
       "2    0\n",
       "3    0\n",
       "4    0\n",
       "..  ..\n",
       "395  0\n",
       "396  0\n",
       "397  0\n",
       "398  0\n",
       "399  0\n",
       "\n",
       "[400 rows x 1 columns]"
      ]
     },
     "execution_count": 45,
     "metadata": {},
     "output_type": "execute_result"
    }
   ],
   "source": [
    "agglomerative=pd.DataFrame(clust_labels)\n",
    "agglomerative"
   ]
  },
  {
   "cell_type": "code",
   "execution_count": 46,
   "id": "8e5a60a5",
   "metadata": {},
   "outputs": [
    {
     "data": {
      "text/plain": [
       "<matplotlib.colorbar.Colorbar at 0x1b42c028b80>"
      ]
     },
     "execution_count": 46,
     "metadata": {},
     "output_type": "execute_result"
    },
    {
     "data": {
      "image/png": "[encoded data removed]",
      "text/plain": [
       "<Figure size 432x288 with 2 Axes>"
      ]
     },
     "metadata": {
      "needs_background": "light"
     },
     "output_type": "display_data"
    }
   ],
   "source": [
    "import matplotlib.pyplot as plt\n",
    "fig =plt.figure()\n",
    "ax = fig.add_subplot(111)\n",
    "scatter = ax.scatter (df ['anemia'] , df ['pedal edema'] , c= agglomerative[0], s=50)\n",
    "ax.set_title(\"Agglomerative Clutering\")\n",
    "ax.set_xlabel(\"anemia\")\n",
    "ax.set_ylabel(\"pedal edema\")\n",
    "plt.colorbar(scatter)"
   ]
  },
  {
   "cell_type": "code",
   "execution_count": 33,
   "id": "0418a3f6",
   "metadata": {},
   "outputs": [
    {
     "data": {
      "text/plain": [
       "KMeans(n_clusters=4, random_state=0)"
      ]
     },
     "execution_count": 33,
     "metadata": {},
     "output_type": "execute_result"
    }
   ],
   "source": [
    "#KMean\n",
    "from sklearn.cluster import KMeans  #Importing our clustering algorithm: KMeans\n",
    "kmeans=KMeans(n_clusters=4, random_state=0)  #Cluster our data by choosing 5 as number of clusters\n",
    "kmeans.fit(df)"
   ]
  },
  {
   "cell_type": "code",
   "execution_count": 34,
   "id": "a7182cd8",
   "metadata": {},
   "outputs": [
    {
     "data": {
      "text/html": [
       "<div>\n",
       "<style scoped>\n",
       "    .dataframe tbody tr th:only-of-type {\n",
       "        vertical-align: middle;\n",
       "    }\n",
       "\n",
       "    .dataframe tbody tr th {\n",
       "        vertical-align: top;\n",
       "    }\n",
       "\n",
       "    .dataframe thead th {\n",
       "        text-align: right;\n",
       "    }\n",
       "</style>\n",
       "<table border=\"1\" class=\"dataframe\">\n",
       "  <thead>\n",
       "    <tr style=\"text-align: right;\">\n",
       "      <th></th>\n",
       "      <th>0</th>\n",
       "    </tr>\n",
       "  </thead>\n",
       "  <tbody>\n",
       "    <tr>\n",
       "      <th>0</th>\n",
       "      <td>2</td>\n",
       "    </tr>\n",
       "    <tr>\n",
       "      <th>1</th>\n",
       "      <td>1</td>\n",
       "    </tr>\n",
       "    <tr>\n",
       "      <th>2</th>\n",
       "      <td>2</td>\n",
       "    </tr>\n",
       "    <tr>\n",
       "      <th>3</th>\n",
       "      <td>1</td>\n",
       "    </tr>\n",
       "    <tr>\n",
       "      <th>4</th>\n",
       "      <td>2</td>\n",
       "    </tr>\n",
       "    <tr>\n",
       "      <th>...</th>\n",
       "      <td>...</td>\n",
       "    </tr>\n",
       "    <tr>\n",
       "      <th>395</th>\n",
       "      <td>1</td>\n",
       "    </tr>\n",
       "    <tr>\n",
       "      <th>396</th>\n",
       "      <td>2</td>\n",
       "    </tr>\n",
       "    <tr>\n",
       "      <th>397</th>\n",
       "      <td>1</td>\n",
       "    </tr>\n",
       "    <tr>\n",
       "      <th>398</th>\n",
       "      <td>2</td>\n",
       "    </tr>\n",
       "    <tr>\n",
       "      <th>399</th>\n",
       "      <td>1</td>\n",
       "    </tr>\n",
       "  </tbody>\n",
       "</table>\n",
       "<p>400 rows × 1 columns</p>\n",
       "</div>"
      ],
      "text/plain": [
       "     0\n",
       "0    2\n",
       "1    1\n",
       "2    2\n",
       "3    1\n",
       "4    2\n",
       "..  ..\n",
       "395  1\n",
       "396  2\n",
       "397  1\n",
       "398  2\n",
       "399  1\n",
       "\n",
       "[400 rows x 1 columns]"
      ]
     },
     "execution_count": 34,
     "metadata": {},
     "output_type": "execute_result"
    }
   ],
   "source": [
    "labels=pd.DataFrame(kmeans.labels_)\n",
    "labels"
   ]
  },
  {
   "cell_type": "code",
   "execution_count": 35,
   "id": "bd9b735d",
   "metadata": {},
   "outputs": [
    {
     "name": "stdout",
     "output_type": "stream",
     "text": [
      "[[5.50712127e+01 8.33766234e+01 1.01648872e+00 1.18269866e+00\n",
      "  7.76630777e-01 8.44155844e-01 7.92207792e-01 1.55844156e-01\n",
      "  7.79220779e-02 1.63121151e+02 5.57873845e+01 2.77100471e+00\n",
      "  1.38154205e+02 4.36563853e+00 1.24893417e+01 3.81975600e+01\n",
      "  1.07688312e+04 4.58884560e+00 4.28571429e-01 1.40259740e+00\n",
      "  1.42857143e-01 2.20779221e-01 1.81818182e-01 1.81818182e-01]\n",
      " [4.72822535e+01 7.97222222e+01 1.01892666e+00 7.88606403e-01\n",
      "  2.26865042e-01 8.98148148e-01 8.14814815e-01 9.25925926e-02\n",
      "  3.70370370e-02 1.37476280e+02 5.78028045e+01 3.29064646e+00\n",
      "  1.35801887e+02 4.83980888e+00 1.30483929e+01 4.04019360e+01\n",
      "  5.73796296e+03 5.08933128e+00 2.77777778e-01 1.22222222e+00\n",
      "  7.40740741e-02 1.38888889e-01 1.20370370e-01 1.75925926e-01]\n",
      " [5.23122346e+01 7.85221675e+01 1.01723873e+00 9.92819571e-01\n",
      "  4.37216679e-01 8.91625616e-01 8.42364532e-01 7.38916256e-02\n",
      "  4.43349754e-02 1.46654204e+02 5.54283607e+01 2.97105686e+00\n",
      "  1.38482593e+02 4.64231243e+00 1.24121624e+01 3.87369010e+01\n",
      "  8.35435418e+03 4.86036672e+00 3.79310345e-01 1.35960591e+00\n",
      "  7.38916256e-02 2.11822660e-01 2.11822660e-01 1.13300493e-01]\n",
      " [5.22500000e+01 7.16666667e+01 1.01250000e+00 2.41666667e+00\n",
      "  5.83333333e-01 8.33333333e-01 3.33333333e-01 4.16666667e-01\n",
      "  2.50000000e-01 1.69669710e+02 9.83333333e+01 4.75833333e+00\n",
      "  1.32921459e+02 4.13787393e+00 1.00000000e+01 2.94166667e+01\n",
      "  1.74333333e+04 3.67787037e+00 5.83333333e-01 1.58333333e+00\n",
      "  2.77555756e-17 5.83333333e-01 5.00000000e-01 3.33333333e-01]]\n"
     ]
    }
   ],
   "source": [
    "kmeans.predict(df)\n",
    "print(kmeans.cluster_centers_)"
   ]
  },
  {
   "cell_type": "code",
   "execution_count": 37,
   "id": "5a7b2416",
   "metadata": {},
   "outputs": [
    {
     "data": {
      "image/png": "[encoded data removed]",
      "text/plain": [
       "<Figure size 720x504 with 1 Axes>"
      ]
     },
     "metadata": {
      "needs_background": "light"
     },
     "output_type": "display_data"
    }
   ],
   "source": [
    "import matplotlib.pyplot as plt\n",
    "import scipy.cluster.hierarchy as shc\n",
    "plt.figure(figsize=(10,7))\n",
    "plt.title(\"Customer Dendrograms\")\n",
    "dend=shc.dendrogram(shc.linkage(df, method=\"complete\"))\n"
   ]
  },
  {
   "cell_type": "code",
   "execution_count": 39,
   "id": "d8aef9a5",
   "metadata": {},
   "outputs": [
    {
     "name": "stderr",
     "output_type": "stream",
     "text": [
      "C:\\Users\\H.A\\anaconda3\\lib\\site-packages\\sklearn\\cluster\\_kmeans.py:1036: UserWarning: KMeans is known to have a memory leak on Windows with MKL, when there are less chunks than available threads. You can avoid it by setting the environment variable OMP_NUM_THREADS=2.\n",
      "  warnings.warn(\n"
     ]
    }
   ],
   "source": [
    "Sum_of_squared_distances=[]\n",
    "K= range(1,15)\n",
    "for k in K:\n",
    "    Km =KMeans(n_clusters=k)\n",
    "    km =Km.fit(df)\n",
    "    Sum_of_squared_distances.append(km.inertia_)"
   ]
  },
  {
   "cell_type": "code",
   "execution_count": 40,
   "id": "1002fd86",
   "metadata": {},
   "outputs": [
    {
     "data": {
      "image/png": "[encoded data removed]",
      "text/plain": [
       "<Figure size 432x288 with 1 Axes>"
      ]
     },
     "metadata": {
      "needs_background": "light"
     },
     "output_type": "display_data"
    }
   ],
   "source": [
    "plt.plot(K,Sum_of_squared_distances,'bx-')\n",
    "plt.xlabel('k')\n",
    "plt.ylabel('Sum_of_squared_distances')\n",
    "plt.title('Elbow Method For Optimql K')\n",
    "plt.show()"
   ]
  },
  {
   "cell_type": "code",
   "execution_count": 47,
   "id": "5201c02d",
   "metadata": {},
   "outputs": [
    {
     "name": "stdout",
     "output_type": "stream",
     "text": [
      "the best value of k is 4\n"
     ]
    }
   ],
   "source": [
    "print('the best value of k is 4')"
   ]
  },
  {
   "cell_type": "code",
   "execution_count": 43,
   "id": "6b48e380",
   "metadata": {},
   "outputs": [
    {
     "data": {
      "image/png": "[encoded data removed]",
      "text/plain": [
       "<Figure size 432x288 with 1 Axes>"
      ]
     },
     "metadata": {
      "needs_background": "light"
     },
     "output_type": "display_data"
    }
   ],
   "source": [
    "import matplotlib.pyplot as plt\n",
    "plt.scatter(df ['anemia'] , df ['pedal edema'],\n",
    "           c = KMeans(n_clusters = 4).fit_predict(df), cmap =plt.cm.winter) \n",
    "plt.show()"
   ]
  },
  {
   "cell_type": "code",
   "execution_count": null,
   "id": "bd239693",
   "metadata": {},
   "outputs": [],
   "source": []
  }
 ],
 "metadata": {
  "kernelspec": {
   "display_name": "Python 3 (ipykernel)",
   "language": "python",
   "name": "python3"
  },
  "language_info": {
   "codemirror_mode": {
    "name": "ipython",
    "version": 3
   },
   "file_extension": ".py",
   "mimetype": "text/x-python",
   "name": "python",
   "nbconvert_exporter": "python",
   "pygments_lexer": "ipython3",
   "version": "3.9.12"
  }
 },
 "nbformat": 4,
 "nbformat_minor": 5
}
